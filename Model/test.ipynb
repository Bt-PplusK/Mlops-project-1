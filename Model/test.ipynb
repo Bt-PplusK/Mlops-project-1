{
 "cells": [
  {
   "cell_type": "code",
   "execution_count": 1,
   "metadata": {},
   "outputs": [
    {
     "data": {
      "text/plain": [
       "'\\nmyresume = \"\"\"I am a data scientist specializing in machine\\nlearning, deep learning, and computer vision. With\\na strong background in mathematics, statistics,\\nand programming, I am passionate about\\nuncovering hidden patterns and insights in data.\\nI have extensive experience in developing\\npredictive models, implementing deep learning\\nalgorithms, and designing computer vision\\nsystems. My technical skills include proficiency in\\nPython, Sklearn, TensorFlow, and PyTorch.\\nWhat sets me apart is my ability to effectively\\ncommunicate complex concepts to diverse\\naudiences. I excel in translating technical insights\\ninto actionable recommendations that drive\\ninformed decision-making.\\nIf you\\'re looking for a dedicated and versatile data\\nscientist to collaborate on impactful projects, I am\\neager to contribute my expertise. Let\\'s harness the\\npower of data together to unlock new possibilities\\nand shape a better future.\\nContact & Sources\\nEmail: 611noorsaeed@gmail.com\\nPhone: 03442826192\\nGithub: https://github.com/611noorsaeed\\nLinkdin: https://www.linkedin.com/in/noor-saeed654a23263/\\nBlogs: https://medium.com/@611noorsaeed\\nYoutube: Artificial Intelligence\\nABOUT ME\\nWORK EXPERIENCE\\nSKILLES\\nNOOR SAEED\\nLANGUAGES\\nEnglish\\nUrdu\\nHindi\\nI am a versatile data scientist with expertise in a wide\\nrange of projects, including machine learning,\\nrecommendation systems, deep learning, and computer\\nvision. Throughout my career, I have successfully\\ndeveloped and deployed various machine learning models\\nto solve complex problems and drive data-driven\\ndecision-making\\nMachine Learnine\\nDeep Learning\\nComputer Vision\\nRecommendation Systems\\nData Visualization\\nProgramming Languages (Python, SQL)\\nData Preprocessing and Feature Engineering\\nModel Evaluation and Deployment\\nStatistical Analysis\\nCommunication and Collaboration\\n\"\"\"\\n'"
      ]
     },
     "execution_count": 1,
     "metadata": {},
     "output_type": "execute_result"
    }
   ],
   "source": [
    "'''\n",
    "myresume = \"\"\"I am a data scientist specializing in machine\n",
    "learning, deep learning, and computer vision. With\n",
    "a strong background in mathematics, statistics,\n",
    "and programming, I am passionate about\n",
    "uncovering hidden patterns and insights in data.\n",
    "I have extensive experience in developing\n",
    "predictive models, implementing deep learning\n",
    "algorithms, and designing computer vision\n",
    "systems. My technical skills include proficiency in\n",
    "Python, Sklearn, TensorFlow, and PyTorch.\n",
    "What sets me apart is my ability to effectively\n",
    "communicate complex concepts to diverse\n",
    "audiences. I excel in translating technical insights\n",
    "into actionable recommendations that drive\n",
    "informed decision-making.\n",
    "If you're looking for a dedicated and versatile data\n",
    "scientist to collaborate on impactful projects, I am\n",
    "eager to contribute my expertise. Let's harness the\n",
    "power of data together to unlock new possibilities\n",
    "and shape a better future.\n",
    "Contact & Sources\n",
    "Email: 611noorsaeed@gmail.com\n",
    "Phone: 03442826192\n",
    "Github: https://github.com/611noorsaeed\n",
    "Linkdin: https://www.linkedin.com/in/noor-saeed654a23263/\n",
    "Blogs: https://medium.com/@611noorsaeed\n",
    "Youtube: Artificial Intelligence\n",
    "ABOUT ME\n",
    "WORK EXPERIENCE\n",
    "SKILLES\n",
    "NOOR SAEED\n",
    "LANGUAGES\n",
    "English\n",
    "Urdu\n",
    "Hindi\n",
    "I am a versatile data scientist with expertise in a wide\n",
    "range of projects, including machine learning,\n",
    "recommendation systems, deep learning, and computer\n",
    "vision. Throughout my career, I have successfully\n",
    "developed and deployed various machine learning models\n",
    "to solve complex problems and drive data-driven\n",
    "decision-making\n",
    "Machine Learnine\n",
    "Deep Learning\n",
    "Computer Vision\n",
    "Recommendation Systems\n",
    "Data Visualization\n",
    "Programming Languages (Python, SQL)\n",
    "Data Preprocessing and Feature Engineering\n",
    "Model Evaluation and Deployment\n",
    "Statistical Analysis\n",
    "Communication and Collaboration\n",
    "\"\"\"\n",
    "'''"
   ]
  },
  {
   "cell_type": "code",
   "execution_count": 2,
   "metadata": {},
   "outputs": [],
   "source": [
    "my_resume = 'electrical-engineering-resume-template.pdf'"
   ]
  },
  {
   "cell_type": "code",
   "execution_count": 5,
   "metadata": {},
   "outputs": [
    {
     "name": "stderr",
     "output_type": "stream",
     "text": [
      "C:\\Users\\Admin\\miniconda3\\Lib\\site-packages\\sklearn\\base.py:376: InconsistentVersionWarning: Trying to unpickle estimator LogisticRegression from version 1.2.2 when using version 1.5.0. This might lead to breaking code or invalid results. Use at your own risk. For more info please refer to:\n",
      "https://scikit-learn.org/stable/model_persistence.html#security-maintainability-limitations\n",
      "  warnings.warn(\n"
     ]
    },
    {
     "ename": "NameError",
     "evalue": "name 'cleanResume' is not defined",
     "output_type": "error",
     "traceback": [
      "\u001b[1;31m---------------------------------------------------------------------------\u001b[0m",
      "\u001b[1;31mNameError\u001b[0m                                 Traceback (most recent call last)",
      "Cell \u001b[1;32mIn[5], line 7\u001b[0m\n\u001b[0;32m      4\u001b[0m model \u001b[38;5;241m=\u001b[39m pickle\u001b[38;5;241m.\u001b[39mload(\u001b[38;5;28mopen\u001b[39m(\u001b[38;5;124m'\u001b[39m\u001b[38;5;124mmodel_with_lr.pkl\u001b[39m\u001b[38;5;124m'\u001b[39m, \u001b[38;5;124m'\u001b[39m\u001b[38;5;124mrb\u001b[39m\u001b[38;5;124m'\u001b[39m))\n\u001b[0;32m      6\u001b[0m \u001b[38;5;66;03m# Clean the input resume\u001b[39;00m\n\u001b[1;32m----> 7\u001b[0m cleaned_resume \u001b[38;5;241m=\u001b[39m \u001b[43mcleanResume\u001b[49m(my_resume)\n\u001b[0;32m      9\u001b[0m \u001b[38;5;66;03m# Transform the cleaned resume using the trained TfidfVectorizer\u001b[39;00m\n\u001b[0;32m     10\u001b[0m input_features \u001b[38;5;241m=\u001b[39m tfidf\u001b[38;5;241m.\u001b[39mtransform([cleaned_resume])\n",
      "\u001b[1;31mNameError\u001b[0m: name 'cleanResume' is not defined"
     ]
    }
   ],
   "source": [
    "import pickle\n",
    "\n",
    "# Load the trained classifier\n",
    "model = pickle.load(open('model_with_lr.pkl', 'rb'))\n",
    "\n",
    "# Clean the input resume\n",
    "cleaned_resume = cleanResume(my_resume)\n",
    "\n",
    "# Transform the cleaned resume using the trained TfidfVectorizer\n",
    "input_features = tfidf.transform([cleaned_resume])\n",
    "\n",
    "# Make the prediction using the loaded classifier\n",
    "prediction_id = model.predict(input_features)[0]\n",
    "\n",
    "# Map category ID to category name\n",
    "category_mapping = {\n",
    "    15: \"Java Developer\",\n",
    "    23: \"Testing\",\n",
    "    8: \"DevOps Engineer\",\n",
    "    20: \"Python Developer\",\n",
    "    24: \"Web Designing\",\n",
    "    12: \"HR\",\n",
    "    13: \"Hadoop\",\n",
    "    3: \"Blockchain\",\n",
    "    10: \"ETL Developer\",\n",
    "    18: \"Operations Manager\",\n",
    "    6: \"Data Science\",\n",
    "    22: \"Sales\",\n",
    "    16: \"Mechanical Engineer\",\n",
    "    1: \"Arts\",\n",
    "    7: \"Database\",\n",
    "    11: \"Electrical Engineering\",\n",
    "    14: \"Health and fitness\",\n",
    "    19: \"PMO\",\n",
    "    4: \"Business Analyst\",\n",
    "    9: \"DotNet Developer\",\n",
    "    2: \"Automation Testing\",\n",
    "    17: \"Network Security Engineer\",\n",
    "    21: \"SAP Developer\",\n",
    "    5: \"Civil Engineer\",\n",
    "    0: \"Advocate\",\n",
    "}\n",
    "\n",
    "category_name = category_mapping.get(prediction_id, \"Unknown\")\n",
    "\n",
    "print(\"Predicted Category:\", category_name)\n",
    "print(prediction_id)"
   ]
  }
 ],
 "metadata": {
  "kernelspec": {
   "display_name": "Python 3 (ipykernel)",
   "language": "python",
   "name": "python3"
  },
  "language_info": {
   "codemirror_mode": {
    "name": "ipython",
    "version": 3
   },
   "file_extension": ".py",
   "mimetype": "text/x-python",
   "name": "python",
   "nbconvert_exporter": "python",
   "pygments_lexer": "ipython3",
   "version": "3.11.1"
  }
 },
 "nbformat": 4,
 "nbformat_minor": 4
}
